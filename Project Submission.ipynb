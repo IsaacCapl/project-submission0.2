{
 "cells": [
  {
   "cell_type": "code",
   "execution_count": 177,
   "id": "fe21512f-93f2-45a5-b834-dd9e05702120",
   "metadata": {},
   "outputs": [],
   "source": [
    "import pandas as pd"
   ]
  },
  {
   "cell_type": "code",
   "execution_count": 178,
   "id": "3a3e0bcb-0729-4c50-b9de-90021a57fabf",
   "metadata": {},
   "outputs": [
    {
     "name": "stdout",
     "output_type": "stream",
     "text": [
      "<module 'pandas' from 'C:\\\\Users\\\\isaac\\\\anaconda3\\\\Lib\\\\site-packages\\\\pandas\\\\__init__.py'>\n"
     ]
    }
   ],
   "source": [
    "print(pd)"
   ]
  },
  {
   "cell_type": "code",
   "execution_count": 179,
   "id": "209295ec-7803-4367-9542-02542881bc2e",
   "metadata": {},
   "outputs": [
    {
     "data": {
      "text/plain": [
       "2921"
      ]
     },
     "execution_count": 179,
     "metadata": {},
     "output_type": "execute_result"
    }
   ],
   "source": [
    "2909 + 12"
   ]
  },
  {
   "cell_type": "code",
   "execution_count": null,
   "id": "6828eb51-ff50-4233-bd82-ae25a34a3b19",
   "metadata": {},
   "outputs": [],
   "source": []
  },
  {
   "cell_type": "code",
   "execution_count": 180,
   "id": "815e6310-b313-4d40-980c-9ff6e061516a",
   "metadata": {
    "scrolled": true
   },
   "outputs": [],
   "source": [
    "import pandas as pd\n",
    "\n"
   ]
  },
  {
   "cell_type": "code",
   "execution_count": 181,
   "id": "1ac41e1f-22a3-409c-8614-28ec899e5e10",
   "metadata": {},
   "outputs": [],
   "source": [
    "dataset = pd.read_csv(r\"C:\\Users\\isaac\\OneDrive\\Documents\\results.csv\")"
   ]
  },
  {
   "cell_type": "code",
   "execution_count": 182,
   "id": "08e90942-f1cd-4b62-8886-6ff56cf276d5",
   "metadata": {
    "scrolled": true
   },
   "outputs": [
    {
     "data": {
      "text/plain": [
       "tournament\n",
       "Friendly                        17773\n",
       "FIFA World Cup qualification     8016\n",
       "UEFA Euro qualification          2815\n",
       "Name: count, dtype: int64"
      ]
     },
     "execution_count": 182,
     "metadata": {},
     "output_type": "execute_result"
    }
   ],
   "source": [
    "dataset [\"tournament\"].value_counts()\\\n",
    ".head(3) \\\n",
    "\n",
    "#Top 3 tournaments : Friendly, FIFA Wold Cup qualification, UEFA Euro qualification"
   ]
  },
  {
   "cell_type": "code",
   "execution_count": 183,
   "id": "a6c9f13a-a7cb-4adc-ae7e-6b791b40005c",
   "metadata": {},
   "outputs": [
    {
     "name": "stdout",
     "output_type": "stream",
     "text": [
      "Average goals scored by the home team: 1.7393136930376256\n"
     ]
    }
   ],
   "source": [
    "average_goals = dataset['home_score'].mean()\n",
    "print(f\"Average goals scored by the home team: {average_goals}\")\n",
    "#home team average goals= 1.7393136930376256"
   ]
  },
  {
   "cell_type": "code",
   "execution_count": 184,
   "id": "86ffecac-fa6c-493c-9efe-fc39a08aed20",
   "metadata": {},
   "outputs": [
    {
     "name": "stdout",
     "output_type": "stream",
     "text": [
      "Average goals scored by the away team: 1.1782412004854905\n"
     ]
    }
   ],
   "source": [
    "average_goals = dataset['away_score'].mean()\n",
    "print(f\"Average goals scored by the away team: {average_goals}\")\n",
    "#away team average goals= 1.1782412004854905"
   ]
  },
  {
   "cell_type": "code",
   "execution_count": 185,
   "id": "60d7d004-2d94-4351-817b-3c7ac8a13df1",
   "metadata": {},
   "outputs": [
    {
     "name": "stdout",
     "output_type": "stream",
     "text": [
      "The country with the highest overall home score is United States with a total score of 2056.\n"
     ]
    }
   ],
   "source": [
    "country_home_score_sum = dataset.groupby('country')['home_score'].sum()\n",
    "highest_country = country_home_score_sum.idxmax()\n",
    "highest_score = country_home_score_sum.max()\n",
    "print(f\"The country with the highest overall home score is {highest_country} with a total score of {highest_score}.\")\n"
   ]
  },
  {
   "cell_type": "code",
   "execution_count": 186,
   "id": "2b05d443-4047-4579-899f-ff9f26d841e9",
   "metadata": {},
   "outputs": [
    {
     "name": "stdout",
     "output_type": "stream",
     "text": [
      "The country with the highest overall goals in the FIFA World Cup is Brazil with a total of 259 goals.\n"
     ]
    }
   ],
   "source": [
    "tournament_name = 'FIFA World Cup'\n",
    "fifa_df = dataset[dataset['tournament'] == 'FIFA World Cup'].copy() #.copy for the warning, even though it was said to ignore \n",
    "    \n",
    "if 'home_score' in fifa_df.columns and 'away_score' in fifa_df.columns:\n",
    "    fifa_df['total_score'] = fifa_df['home_score'] + fifa_df['away_score']\n",
    "    \n",
    "tournament_data = tournament_data.dropna(subset=['total_goals'])\n",
    "    \n",
    "country_goals_sum = fifa_df.groupby('country')['total_score'].sum()\n",
    "    \n",
    "highest_country = country_goals_sum.idxmax()\n",
    "highest_goals = country_goals_sum.max()\n",
    "    \n",
    "print(f\"The country with the highest overall goals in the {tournament_name} is {highest_country} with a total of {highest_goals} goals.\")\n",
    "\n"
   ]
  },
  {
   "cell_type": "code",
   "execution_count": 187,
   "id": "125d8519-9080-401c-885d-a03cad8d3902",
   "metadata": {},
   "outputs": [],
   "source": [
    "#Questions:\n",
    "#What is the average number of goals for the home team?\n",
    "#What is the average number of goals for the away team?\n",
    "#What is the country with the highest overall home score?\n",
    "#What are the top 3 type of tournaments?\n",
    "#Which country has the highest overall FIFA World Cup goals?"
   ]
  },
  {
   "cell_type": "code",
   "execution_count": 188,
   "id": "21c63f78-b69d-4ea2-a752-f0e063ebf80a",
   "metadata": {},
   "outputs": [],
   "source": [
    "#Answers: \n",
    "#1: home team average goals= 1.7393136930376256\n",
    "#2: away team average goals= 1.1782412004854905\n",
    "#3: The country with the highest overall home score is United States with a total score of 2056.\n",
    "#4:Top 3 tournaments are Friendly, FIFA Wold Cup qualification, UEFA Euro qualification\n",
    "#5: The country with the highest overall goals in the FIFA World Cup is Brazil with a total of 259 goals."
   ]
  },
  {
   "cell_type": "code",
   "execution_count": null,
   "id": "65e375e7-8ebd-4d5b-adf2-77c0fd985f4b",
   "metadata": {},
   "outputs": [],
   "source": []
  }
 ],
 "metadata": {
  "kernelspec": {
   "display_name": "Python 3 (ipykernel)",
   "language": "python",
   "name": "python3"
  },
  "language_info": {
   "codemirror_mode": {
    "name": "ipython",
    "version": 3
   },
   "file_extension": ".py",
   "mimetype": "text/x-python",
   "name": "python",
   "nbconvert_exporter": "python",
   "pygments_lexer": "ipython3",
   "version": "3.12.4"
  }
 },
 "nbformat": 4,
 "nbformat_minor": 5
}
